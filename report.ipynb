{
 "cells": [
  {
   "cell_type": "markdown",
   "metadata": {},
   "source": [
    "# Report\n",
    "## To conclude this project, we should answer the following 5 questions in a separate document attached to your project:\n",
    "\n",
    "## Which insights did you gain from your EDA? Were any columns highly correlated? If so, name them.\n",
    "1. Our top 3 genres were Pop with 7038, Country with 5444, and Blues with 4603 songs and Hip-Hop with the least 904\n",
    "2. Johnny Cash and Ella Fitzgerald were our Top 2 Artist\n",
    "3. Sadness: 6094 songs, violence: 5707 songs, and world/life: 5419 were our most popular topics \n",
    "4. Obscene and Violence are more common in modern music  \n",
    "5. Hip-Hop had 696/904 songs that were classified as obscene in this dataset\n",
    "6. The average word count per song is 73!\n",
    "7. Newer songs tend to be on the slightly longer side\n",
    "\n",
    "## How did you determine which columns to drop or keep? If your EDA informed this process, explain which insights you used to determine which columns were not needed. \n",
    "\n",
    "I dropped \"Unnamed:0\" column pretty early on after I realized that served as an index which only had unique values in it. A column I created to group years by decade named 'decade' was also dropped as it had a high negative correlation with 'age', which was the same reason \"release_date\" was also dropped. Then as I dropped all non-numerical columns like, \"track_name\", \"genre\", \"topic\", and \"lyrics\". \n",
    "\n",
    "\n",
    "## What was the optimal number of clusters in your cluster model? Explain how you determined this value.\n",
    "\n",
    "I based my choice of cluster count on both the elbow and silhouette plots. Before scaling, I went with k=4, since both plots started to even out around that point. After scaling, the patterns shifted a bit, and k=12 felt like the best fit as the curves smoothed out around there as well.\n",
    "\n",
    "## Take a look at the respective songs that fell into your clusters. Describe these clusters in human terms to the best of your ability using the columns in your dataset (for example high-gospel songs, low-gospel songs, etc). Feel free to listen to these songs as well to get a sense of what nuance your algorithm picked up on.\n",
    "\n",
    "\n",
    "My clusters worked out pretty well as their is a diverse set of genres and topics in each cluster. Cluster 8 has a lot of newer songs as 7/10 were from the 1980s-2000s, not only that but we also had a diverse number of genres like: Blues, Country, Jazz, Reggae, and some Rock! In comparison Cluster 12 was split evenly amongst pop and hip-hop, which covers topics like \"age\", \"communication\", and \"night/time\". Cluster 12 is my favorite personally as we all love ourselves some late night hip-hop, and in all honesty it's the only Cluster where I recognize some of the artists (Kelly Rowland: \"Wonderful Christmas Time\" & Vince Staples \"Big Fish\")\n",
    "\n",
    "\n",
    "## Take a look at the clusters that your algorithm assigned to your test samples. Based on these clusters, which songs would you recommend to this user?\n",
    "\n",
    "I would recommend \"Second Chance\" by Dennis Brown (Reggae) & \"Messin with my mind\" by Randy Travis (Country) from Cluster 6, as we all love ourselves some\n",
    "Country and Reggae! But just in case that isn't up your alley then I would recommend \"Your cheating heart\" by Jerry Lee Lewis (Pop) from Cluster 1 "
   ]
  }
 ],
 "metadata": {
  "language_info": {
   "name": "python"
  }
 },
 "nbformat": 4,
 "nbformat_minor": 2
}
